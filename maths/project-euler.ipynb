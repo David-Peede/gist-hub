{
 "cells": [
  {
   "cell_type": "markdown",
   "metadata": {},
   "source": [
    "# Project Euler"
   ]
  },
  {
   "cell_type": "code",
   "execution_count": 1,
   "metadata": {},
   "outputs": [],
   "source": [
    "# Import Packages "
   ]
  },
  {
   "cell_type": "markdown",
   "metadata": {},
   "source": [
    "## Problem 1\n",
    "\n",
    "If we list all the natural numbers below 10 that are multiples of 3 or 5, we get 3, 5, 6, and 9. The sum of these multiples is 23. Find the sum of all the multiples of 3 or 5 below 1000.\n",
    "\n",
    "### Solution\n",
    "\n",
    "We need to find the sum of all natural numbers below 1000 that are multiples of 3 or 5. To solve this problem, we will utilize set theory and properties of arithmetic sequences. First, let $\\mathcal{A}$ and $\\mathcal{B}$ represent all the natural numbers divisible by 3 and 5 respectively i.e., \n",
    "\\begin{align*}\n",
    "& \\mathcal{A} = \\{ n \\in \\mathbb{N} \\mid 1 \\leq n < 1000 \\text{ and } n \\bmod 3 = 0 \\} \\, , \\\\\n",
    "& \\mathcal{B} = \\{ n \\in \\mathbb{N} \\mid 1 \\leq n < 1000 \\text{ and } n \\bmod 5 = 0 \\} \\, .\n",
    "\\end{align*}\n",
    "\n",
    "We are interested in computing $|\\mathcal{A} \\cup \\mathcal{B}|$, which can be found by using the inclusion–exclusion principle:\n",
    "$$\n",
    "|\\mathcal{A} \\cup \\mathcal{B}| = |\\mathcal{A}| + |\\mathcal{B}| - |\\mathcal{A} \\cap \\mathcal{B}| \\; ,\n",
    "$$\n",
    "where $\\mathcal{A} \\cap \\mathcal{B}$ represents the set of natural numbers that are multiples of both 3 and 5—i.e., multiples of 15. Note that all three of these sets are arithmetic sequences:\n",
    "\\begin{align*}\n",
    "& \\mathcal{X} = \\{ x_1, x_2, x_3, \\ldots, x_n \\} \\, , \\\\\n",
    "& \\mathcal{A} = \\{3, 6, 9, \\ldots, 999\\}  \\, , \\\\\n",
    "& \\mathcal{B} = \\{5, 10, 15, \\ldots, 995\\}  \\, , \\\\\n",
    "& \\mathcal{A} \\cap \\mathcal{B} = \\{15, 30, 45, \\ldots, 990\\}  \\, .\n",
    "\\end{align*}\n",
    "\n",
    "The number of terms in each arithmetic sequence can be expressed by:\n",
    "\\begin{align*}\n",
    "& n_{\\mathcal{X}} = \\left\\lfloor \\frac{x_n}{d} \\right\\rfloor \\, , \\\\\n",
    "& n_{\\mathcal{A}} = \\left\\lfloor \\frac{999}{3} \\right\\rfloor \\, , \\\\\n",
    "& n_{\\mathcal{B}} = \\left\\lfloor \\frac{995}{5} \\right\\rfloor \\, , \\\\\n",
    "& n_{\\mathcal{A} \\cap \\mathcal{B}} = \\left\\lfloor \\frac{990}{15} \\right\\rfloor \\, ,\n",
    "\\end{align*}\n",
    "where $d$ represents the common difference term.\n",
    "\n",
    "The cardinality of each set can be found by finding the sum of each arithmetic sequence, which is:\n",
    "\\begin{align*}\n",
    "& S_{n_{\\mathcal{X}}} = \\frac{n_{\\mathcal{X}}}{2} (x_{1} + x_{n}) \\, , \\\\\n",
    "& S_{n_{\\mathcal{A}}} = \\frac{333}{2} (3 + 999) = \\frac{333}{2} \\times 1002 = 333 \\times 501 = 166833 \\, , \\\\\n",
    "& S_{n_{\\mathcal{B}}} = \\frac{199}{2} (5 + 995) = \\frac{199}{2} \\times 1000 = 199 \\times 500 = 99500 \\, , \\\\\n",
    "& S_{n_{\\mathcal{A} \\cap \\mathcal{B}}} = \\frac{66}{2} (15 + 990) = \\frac{66}{2} \\times 1005 = 33 \\times 1005 = 33165 \\, .\n",
    "\\end{align*}\n",
    "\n",
    "Lastly, by the inclusion–exclusion principle the sum of all the multiples of 3 or 5 below 1000 is:\n",
    "\\begin{align*}\n",
    "& |\\mathcal{A} \\cup \\mathcal{B}| = |\\mathcal{A}| + |\\mathcal{B}| - |\\mathcal{A} \\cap \\mathcal{B}| \\, , \\\\\n",
    "& |\\mathcal{A} \\cup \\mathcal{B}| = S_{n_{\\mathcal{A}}} + S_{n_{\\mathcal{B}}} - S_{n_{\\mathcal{A} \\cap \\mathcal{B}}} \\, , \\\\\n",
    "& |\\mathcal{A} \\cup \\mathcal{B}| = 66833 + 99500 - 33165  \\, , \\\\\n",
    "& \\boxed{|\\mathcal{A} \\cup \\mathcal{B}| = 233168 \\, .} \n",
    "\\end{align*}"
   ]
  },
  {
   "cell_type": "code",
   "execution_count": 2,
   "metadata": {},
   "outputs": [
    {
     "name": "stdout",
     "output_type": "stream",
     "text": [
      "The sum of all the multiples of 3 or 5 below 1000 = 233168\n"
     ]
    }
   ],
   "source": [
    "# Initialize the total sum.\n",
    "total_sum = 0\n",
    "# For every natural number between 1 and 1000.\n",
    "for i in range(1, 1000):\n",
    "    # If the number is divisible by 3 or 5.\n",
    "    if i % 3 == 0 or i % 5 == 0:\n",
    "        # Update the total sum.\n",
    "        total_sum += i\n",
    "# Print the result.\n",
    "print(f\"The sum of all the multiples of 3 or 5 below 1000 = {total_sum}\")"
   ]
  }
 ],
 "metadata": {
  "kernelspec": {
   "display_name": "pd-env",
   "language": "python",
   "name": "python3"
  },
  "language_info": {
   "codemirror_mode": {
    "name": "ipython",
    "version": 3
   },
   "file_extension": ".py",
   "mimetype": "text/x-python",
   "name": "python",
   "nbconvert_exporter": "python",
   "pygments_lexer": "ipython3",
   "version": "3.10.12"
  }
 },
 "nbformat": 4,
 "nbformat_minor": 2
}
